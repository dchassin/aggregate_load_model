{
 "cells": [
  {
   "cell_type": "code",
   "execution_count": 112,
   "id": "f1fc0105",
   "metadata": {},
   "outputs": [],
   "source": [
    "from datetime import datetime\n",
    "def datediff(a,b,date_format=\"%Y-%m-%d\"):\n",
    "    return abs(datetime.strptime(a,date_format)-datetime.strptime(b,date_format)).days"
   ]
  },
  {
   "cell_type": "code",
   "execution_count": 113,
   "id": "0cb9bc3e",
   "metadata": {},
   "outputs": [
    {
     "data": {
      "text/plain": [
       "31"
      ]
     },
     "execution_count": 113,
     "metadata": {},
     "output_type": "execute_result"
    }
   ],
   "source": [
    "datediff(\"27-Oct-21\",\"27-Nov-21\",\"%d-%b-%y\")"
   ]
  },
  {
   "cell_type": "code",
   "execution_count": 114,
   "id": "0808e106",
   "metadata": {},
   "outputs": [],
   "source": [
    "from itertools import permutations\n",
    "def finddiff(arr,targets):\n",
    "    return [p for p in permutations(arr,2) if abs(p[0]-p[1]) in targets]"
   ]
  },
  {
   "cell_type": "code",
   "execution_count": 115,
   "id": "62fd314f",
   "metadata": {},
   "outputs": [
    {
     "name": "stdout",
     "output_type": "stream",
     "text": [
      "finddiff(array = [0, 8, 5, 6, 3, 10] , target = [2] ):\n",
      "\t--> [(8, 6), (8, 10), (5, 3), (6, 8), (3, 5), (10, 8)]\n",
      "finddiff(array = [0, 8, -5, -6, -3, 10] , target = [2] ):\n",
      "\t--> [(8, 10), (-5, -3), (-3, -5), (10, 8)]\n",
      "finddiff(array = [0, 8, 8, -5, -6, -3, 0, 11] , target = [3] ):\n",
      "\t--> [(0, -3), (8, 11), (8, 11), (-6, -3), (-3, 0), (-3, -6), (-3, 0), (0, -3), (11, 8), (11, 8)]\n",
      "finddiff(array = [0, 8, 8, -5, -6, -3, 0, 11] , target = [10] ):\n",
      "\t--> []\n"
     ]
    }
   ],
   "source": [
    "def test(arr,target):\n",
    "    print(\"finddiff(array =\",arr,\", target =\",target,\"):\\n\\t-->\",finddiff(arr,target))\n",
    "    \n",
    "test([0,8,5,6,3,10],[2])\n",
    "test([0,8,-5,-6,-3,10],[2])\n",
    "test([0, 8, 8, -5,-6,-3, 0, 11],[3])\n",
    "test( [0, 8, 8, -5,-6,-3, 0, 11],[10])"
   ]
  },
  {
   "cell_type": "code",
   "execution_count": null,
   "id": "b2b5af78",
   "metadata": {},
   "outputs": [],
   "source": []
  }
 ],
 "metadata": {
  "kernelspec": {
   "display_name": "Python 3 (ipykernel)",
   "language": "python",
   "name": "python3"
  },
  "language_info": {
   "codemirror_mode": {
    "name": "ipython",
    "version": 3
   },
   "file_extension": ".py",
   "mimetype": "text/x-python",
   "name": "python",
   "nbconvert_exporter": "python",
   "pygments_lexer": "ipython3",
   "version": "3.9.6"
  }
 },
 "nbformat": 4,
 "nbformat_minor": 5
}
