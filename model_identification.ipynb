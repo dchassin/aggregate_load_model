{
 "cells": [
  {
   "cell_type": "code",
   "execution_count": 47,
   "id": "9dcfb204",
   "metadata": {},
   "outputs": [],
   "source": [
    "from datetime import *\n",
    "from dateutil import *\n",
    "try:\n",
    "    from control import *\n",
    "    from control import matlab\n",
    "    from matplotlib.pyplot import *\n",
    "    from pandas import *\n",
    "    from numpy import *\n",
    "    from numpy.random import *\n",
    "    from scipy.optimize import *\n",
    "except:\n",
    "    import pip\n",
    "    pip.main(\"install control matplotlib numpy pandas scipy slycot\".split())\n",
    "    raise Exception(\"try again\")"
   ]
  },
  {
   "cell_type": "code",
   "execution_count": 2,
   "id": "1ca11ecc",
   "metadata": {},
   "outputs": [],
   "source": [
    "UA = 500.0 # BTU/degF.h\n",
    "CA = 5000.0 # BTU/degF\n",
    "UM = 1000.0 # BTU/degF.h\n",
    "CM = 10000.0 # BTU/degF\n",
    "UO = 500.0 # BTU/degF.h\n",
    "m = 10000.0 # BTU/h\n",
    "QI = +1*3412.0 # BTU/h\n",
    "QS = +1*3412.0 # BTU/h"
   ]
  },
  {
   "cell_type": "code",
   "execution_count": 3,
   "id": "fef16a10",
   "metadata": {},
   "outputs": [],
   "source": [
    "TS = 72.0 # degF\n",
    "TO = 95.0 # degF\n",
    "DB = 1.0 # degF"
   ]
  },
  {
   "cell_type": "code",
   "execution_count": 4,
   "id": "710eb8d2",
   "metadata": {},
   "outputs": [
    {
     "data": {
      "text/plain": [
       "(108.648, 'COOL')"
      ]
     },
     "execution_count": 4,
     "metadata": {},
     "output_type": "execute_result"
    }
   ],
   "source": [
    "TE = QI/UA + QS/UO + TO\n",
    "if TO < 20:\n",
    "    mode = \"AUX\"\n",
    "    eta = +1.0 * 3412\n",
    "elif abs(TE-TS) < DB:\n",
    "    mode = \"VENT\"\n",
    "    eta = +0.1 * 3412\n",
    "elif TE > TS:\n",
    "    mode = \"COOL\"\n",
    "    eta = -3.0 * 3412\n",
    "else:\n",
    "    mode = \"HEAT\"\n",
    "    eta = +4.0 * 3412\n",
    "TE,mode"
   ]
  },
  {
   "cell_type": "code",
   "execution_count": 5,
   "id": "33413eea",
   "metadata": {},
   "outputs": [],
   "source": [
    "A = [[-(UM+UA)/CA, UM/CA, 1/CA],\n",
    "     [UM/CM, -(UM+UO)/CM, 0],\n",
    "     [-m*(UM+UA)/CA, m*UM/CA, 0]\n",
    "    ]\n",
    "B = [[UA/CA, 1, 1/CA, 0],\n",
    "     [UO/CM, 1, 0, 1/CM],\n",
    "     [m*UA/CA, 0, m/CA, 0]\n",
    "    ]\n",
    "C = [[0, 0, -1/eta]]\n",
    "D = [[0, 0, 1/3412.0, 0]]"
   ]
  },
  {
   "cell_type": "code",
   "execution_count": 59,
   "id": "5cc64d60",
   "metadata": {},
   "outputs": [
    {
     "data": {
      "text/latex": [
       "\\[\n",
       "\\left(\n",
       "\\begin{array}{rllrllrll|rllrllrllrll}\n",
       "0.&\\hspace{-1em}519&\\hspace{-1em}\\phantom{\\cdot}&0.&\\hspace{-1em}309&\\hspace{-1em}\\phantom{\\cdot}&0.&\\hspace{-1em}000157&\\hspace{-1em}\\phantom{\\cdot}&0.&\\hspace{-1em}172&\\hspace{-1em}\\phantom{\\cdot}&0.&\\hspace{-1em}924&\\hspace{-1em}\\phantom{\\cdot}&0.&\\hspace{-1em}00033&\\hspace{-1em}\\phantom{\\cdot}&1.&\\hspace{-1em}4&\\hspace{-1em}\\cdot10^{-5}\\\\\n",
       "0.&\\hspace{-1em}0723&\\hspace{-1em}\\phantom{\\cdot}&0.&\\hspace{-1em}874&\\hspace{-1em}\\phantom{\\cdot}&8.&\\hspace{-1em}22&\\hspace{-1em}\\cdot10^{-6}&0.&\\hspace{-1em}0537&\\hspace{-1em}\\phantom{\\cdot}&0.&\\hspace{-1em}974&\\hspace{-1em}\\phantom{\\cdot}&1.&\\hspace{-1em}4&\\hspace{-1em}\\cdot10^{-5}&9.&\\hspace{-1em}33&\\hspace{-1em}\\cdot10^{-5}\\\\\n",
       "-2.&\\hspace{-1em}27&\\hspace{-1em}\\cdot10^{3}&1.&\\hspace{-1em}45&\\hspace{-1em}\\cdot10^{3}&0.&\\hspace{-1em}746&\\hspace{-1em}\\phantom{\\cdot}&825\\phantom{.}&\\hspace{-1em}&\\hspace{-1em}\\phantom{\\cdot}&-447\\phantom{.}&\\hspace{-1em}&\\hspace{-1em}\\phantom{\\cdot}&1.&\\hspace{-1em}57&\\hspace{-1em}\\phantom{\\cdot}&0.&\\hspace{-1em}0822&\\hspace{-1em}\\phantom{\\cdot}\\\\\n",
       "\\hline\n",
       "0\\phantom{.}&\\hspace{-1em}&\\hspace{-1em}\\phantom{\\cdot}&0\\phantom{.}&\\hspace{-1em}&\\hspace{-1em}\\phantom{\\cdot}&9.&\\hspace{-1em}77&\\hspace{-1em}\\cdot10^{-5}&0\\phantom{.}&\\hspace{-1em}&\\hspace{-1em}\\phantom{\\cdot}&0\\phantom{.}&\\hspace{-1em}&\\hspace{-1em}\\phantom{\\cdot}&0.&\\hspace{-1em}000293&\\hspace{-1em}\\phantom{\\cdot}&0\\phantom{.}&\\hspace{-1em}&\\hspace{-1em}\\phantom{\\cdot}\\\\\n",
       "\\end{array}\\right)\n",
       "\\]"
      ],
      "text/plain": [
       "StateSpace(array([[ 5.19114296e-01,  3.08907577e-01,  1.56842468e-04],\n",
       "       [ 7.22564325e-02,  8.74091012e-01,  8.21973558e-06],\n",
       "       [-2.27043967e+03,  1.44512865e+03,  7.46158263e-01]]), array([[ 1.71978127e-01,  9.24407054e-01,  3.29936783e-04,\n",
       "         1.40194712e-05],\n",
       "       [ 5.36525553e-02,  9.73955071e-01,  1.40194712e-05,\n",
       "         9.32856393e-05],\n",
       "       [ 8.25311020e+02, -4.47235127e+02,  1.56842468e+00,\n",
       "         8.21973558e-02]]), array([[0.00000000e+00, 0.00000000e+00, 9.76944119e-05]]), array([[0.        , 0.        , 0.00029308, 0.        ]]), 1)"
      ]
     },
     "execution_count": 59,
     "metadata": {},
     "output_type": "execute_result"
    }
   ],
   "source": [
    "H = c2d(ss(A,B,C,D,timeunit='h'),1);H"
   ]
  },
  {
   "cell_type": "code",
   "execution_count": 160,
   "id": "bd50f312",
   "metadata": {},
   "outputs": [
    {
     "data": {
      "text/plain": [
       "[126, 0, 1572, 0, 846, 4141, 0]"
      ]
     },
     "execution_count": 160,
     "metadata": {},
     "output_type": "execute_result"
    }
   ],
   "source": [
    "X0 = [randint(0,UA)*2,1/randint(1,CA*2),randint(0,UM*2),1/randint(1,CM*2),randint(1,UO*2),randint(1,m*2),-1/randint(1,-eta*2)]\n",
    "list(map(lambda x: round(x),X0))"
   ]
  },
  {
   "cell_type": "code",
   "execution_count": 155,
   "id": "812f464e",
   "metadata": {},
   "outputs": [
    {
     "data": {
      "text/html": [
       "<div>\n",
       "<style scoped>\n",
       "    .dataframe tbody tr th:only-of-type {\n",
       "        vertical-align: middle;\n",
       "    }\n",
       "\n",
       "    .dataframe tbody tr th {\n",
       "        vertical-align: top;\n",
       "    }\n",
       "\n",
       "    .dataframe thead th {\n",
       "        text-align: right;\n",
       "    }\n",
       "</style>\n",
       "<table border=\"1\" class=\"dataframe\">\n",
       "  <thead>\n",
       "    <tr style=\"text-align: right;\">\n",
       "      <th></th>\n",
       "      <th>UA</th>\n",
       "      <th>CA</th>\n",
       "      <th>UM</th>\n",
       "      <th>CM</th>\n",
       "      <th>UO</th>\n",
       "      <th>m</th>\n",
       "      <th>eta</th>\n",
       "    </tr>\n",
       "  </thead>\n",
       "  <tbody>\n",
       "    <tr>\n",
       "      <th>0</th>\n",
       "      <td>177.2</td>\n",
       "      <td>1425.2</td>\n",
       "      <td>240.0</td>\n",
       "      <td>-435.2</td>\n",
       "      <td>-31.7</td>\n",
       "      <td>11796.8</td>\n",
       "      <td>NaN</td>\n",
       "    </tr>\n",
       "    <tr>\n",
       "      <th>1</th>\n",
       "      <td>500.0</td>\n",
       "      <td>5000.0</td>\n",
       "      <td>1000.0</td>\n",
       "      <td>10000.0</td>\n",
       "      <td>500.0</td>\n",
       "      <td>10000.0</td>\n",
       "      <td>-10236.0</td>\n",
       "    </tr>\n",
       "  </tbody>\n",
       "</table>\n",
       "</div>"
      ],
      "text/plain": [
       "      UA      CA      UM       CM     UO        m      eta\n",
       "0  177.2  1425.2   240.0   -435.2  -31.7  11796.8      NaN\n",
       "1  500.0  5000.0  1000.0  10000.0  500.0  10000.0 -10236.0"
      ]
     },
     "execution_count": 155,
     "metadata": {},
     "output_type": "execute_result"
    }
   ],
   "source": [
    "w = [2,1,2,0]\n",
    "def error(X):\n",
    "    UA = X[0] # BTU/degF.h\n",
    "    CA = X[1] # BTU/degF\n",
    "    UM = X[2] # BTU/degF.h\n",
    "    CM = X[3] # BTU/degF\n",
    "    UO = X[4] # BTU/degF.h\n",
    "    m = X[5] # BTU/h\n",
    "    eta = X[6] # pu\n",
    "    A = [[-(UM+UA)/CA, UM/CA, 1/CA],\n",
    "         [UM/CM, -(UM+UO)/CM, 0],\n",
    "         [-m*(UM+UA)/CA, m*UM/CA, 0]\n",
    "        ]\n",
    "    B = [[UA/CA, 1, 1/CA, 0],\n",
    "         [UO/CM, 1, 0, 1/CM],\n",
    "         [m*UA/CA, 0, m/CA, 0]\n",
    "        ]\n",
    "    C = [[0, 0, -1/eta]]\n",
    "    D = [[0, 0, 1/3412.0, 0]]\n",
    "    G = c2d(ss(A,B,C,D,timeunit='h'),1)\n",
    "    return  w[0]*linalg.norm(H.A-G.A,2) + \\\n",
    "            w[1]*linalg.norm(H.B-G.B,2) + \\\n",
    "            w[2]*linalg.norm(H.C-G.C,2) + \\\n",
    "            w[3]*linalg.norm(H.D-G.D,2)\n",
    "res = minimize(error,X0,method=\"CG\",options={\"disp\":False})\n",
    "X = [res.x[0].round(1),res.x[1].round(1),res.x[2].round(1),res.x[3].round(1),res.x[4].round(1),res.x[5].round(1)]\n",
    "DataFrame([X,[UA,CA,UM,CM,UO,m,eta]],columns=[\"UA\",\"CA\",\"UM\",\"CM\",\"UO\",\"m\",\"eta\"])"
   ]
  },
  {
   "cell_type": "code",
   "execution_count": 156,
   "id": "6ac68513",
   "metadata": {},
   "outputs": [
    {
     "data": {
      "text/html": [
       "<div>\n",
       "<style scoped>\n",
       "    .dataframe tbody tr th:only-of-type {\n",
       "        vertical-align: middle;\n",
       "    }\n",
       "\n",
       "    .dataframe tbody tr th {\n",
       "        vertical-align: top;\n",
       "    }\n",
       "\n",
       "    .dataframe thead th {\n",
       "        text-align: right;\n",
       "    }\n",
       "</style>\n",
       "<table border=\"1\" class=\"dataframe\">\n",
       "  <thead>\n",
       "    <tr style=\"text-align: right;\">\n",
       "      <th></th>\n",
       "      <th>UA</th>\n",
       "      <th>CA</th>\n",
       "      <th>UM</th>\n",
       "      <th>CM</th>\n",
       "      <th>UO</th>\n",
       "      <th>m</th>\n",
       "      <th>eta</th>\n",
       "    </tr>\n",
       "  </thead>\n",
       "  <tbody>\n",
       "    <tr>\n",
       "      <th>0</th>\n",
       "      <td>76.0</td>\n",
       "      <td>1512.0</td>\n",
       "      <td>791.0</td>\n",
       "      <td>6843.0</td>\n",
       "      <td>243.0</td>\n",
       "      <td>11797.0</td>\n",
       "      <td>-12757.0</td>\n",
       "    </tr>\n",
       "    <tr>\n",
       "      <th>1</th>\n",
       "      <td>500.0</td>\n",
       "      <td>5000.0</td>\n",
       "      <td>1000.0</td>\n",
       "      <td>10000.0</td>\n",
       "      <td>500.0</td>\n",
       "      <td>10000.0</td>\n",
       "      <td>-10236.0</td>\n",
       "    </tr>\n",
       "  </tbody>\n",
       "</table>\n",
       "</div>"
      ],
      "text/plain": [
       "      UA      CA      UM       CM     UO        m      eta\n",
       "0   76.0  1512.0   791.0   6843.0  243.0  11797.0 -12757.0\n",
       "1  500.0  5000.0  1000.0  10000.0  500.0  10000.0 -10236.0"
      ]
     },
     "execution_count": 156,
     "metadata": {},
     "output_type": "execute_result"
    }
   ],
   "source": [
    "t,y = step_response(H)\n",
    "def error(x):\n",
    "    x0 = UA; x1=1/CA; x2=UM; x3=1/CM; x4=UO; x5=m; x6=1/eta\n",
    "    A = [[-x0*x1-x2*x1, x2*x1, x1],\n",
    "         [x2*x3, -x2*x3-x4*x3, 0],\n",
    "         [-x5*x0*x1-x5*x2*x1, x5*x2*x1, 0]\n",
    "        ]\n",
    "    B = [[x0*x1, 1, x1, 0],\n",
    "         [x4*x3, 1, 0, x3],\n",
    "         [x5*x0*x1, 0, x5*x1, 0]\n",
    "        ]\n",
    "    C = [[0, 0, -x6]]\n",
    "    D = [[0, 0, 1/3412.0, 0]]\n",
    "    G = c2d(ss(A,B,C,D,timeunit='h'),1)\n",
    "    _,yy = step_response(G,t)\n",
    "    return linalg.norm(yy[0,0]-y[0,0],2)\n",
    "res = minimize(error,X0,method=\"CG\",options={\"disp\":False})\n",
    "X = [res.x[0],1/res.x[1],res.x[2],1/res.x[3],res.x[4],res.x[5],1/res.x[6]]\n",
    "DataFrame([X,[UA,CA,UM,CM,UO,m,eta]],columns=[\"UA\",\"CA\",\"UM\",\"CM\",\"UO\",\"m\",\"eta\"])"
   ]
  },
  {
   "cell_type": "code",
   "execution_count": 157,
   "id": "85673e03",
   "metadata": {},
   "outputs": [
    {
     "data": {
      "text/html": [
       "<div>\n",
       "<style scoped>\n",
       "    .dataframe tbody tr th:only-of-type {\n",
       "        vertical-align: middle;\n",
       "    }\n",
       "\n",
       "    .dataframe tbody tr th {\n",
       "        vertical-align: top;\n",
       "    }\n",
       "\n",
       "    .dataframe thead th {\n",
       "        text-align: right;\n",
       "    }\n",
       "</style>\n",
       "<table border=\"1\" class=\"dataframe\">\n",
       "  <thead>\n",
       "    <tr style=\"text-align: right;\">\n",
       "      <th></th>\n",
       "      <th>UA</th>\n",
       "      <th>CA</th>\n",
       "      <th>UM</th>\n",
       "      <th>CM</th>\n",
       "      <th>UO</th>\n",
       "      <th>m</th>\n",
       "      <th>eta</th>\n",
       "    </tr>\n",
       "  </thead>\n",
       "  <tbody>\n",
       "    <tr>\n",
       "      <th>0</th>\n",
       "      <td>76.0</td>\n",
       "      <td>1512.0</td>\n",
       "      <td>791.0</td>\n",
       "      <td>6843.0</td>\n",
       "      <td>243.0</td>\n",
       "      <td>11797.0</td>\n",
       "      <td>-12757.0</td>\n",
       "    </tr>\n",
       "    <tr>\n",
       "      <th>1</th>\n",
       "      <td>500.0</td>\n",
       "      <td>5000.0</td>\n",
       "      <td>1000.0</td>\n",
       "      <td>10000.0</td>\n",
       "      <td>500.0</td>\n",
       "      <td>10000.0</td>\n",
       "      <td>-10236.0</td>\n",
       "    </tr>\n",
       "  </tbody>\n",
       "</table>\n",
       "</div>"
      ],
      "text/plain": [
       "      UA      CA      UM       CM     UO        m      eta\n",
       "0   76.0  1512.0   791.0   6843.0  243.0  11797.0 -12757.0\n",
       "1  500.0  5000.0  1000.0  10000.0  500.0  10000.0 -10236.0"
      ]
     },
     "execution_count": 157,
     "metadata": {},
     "output_type": "execute_result"
    }
   ],
   "source": [
    "w = [10,1,1,1]\n",
    "def error(x):\n",
    "    x0 = UA; x1=1/CA; x2=UM; x3=1/CM; x4=UO; x5=m; x6=1/eta\n",
    "    A = [[-x0*x1-x2*x1, x2*x1, x1],\n",
    "         [x2*x3, -x2*x3-x4*x3, 0],\n",
    "         [-x5*x0*x1-x5*x2*x1, x5*x2*x1, 0]\n",
    "        ]\n",
    "    B = [[x0*x1, 1, x1, 0],\n",
    "         [x4*x3, 1, 0, x3],\n",
    "         [x5*x0*x1, 0, x5*x1, 0]\n",
    "        ]\n",
    "    C = [[0, 0, -x6]]\n",
    "    D = [[0, 0, 1/3412.0, 0]]\n",
    "    G = c2d(ss(A,B,C,D,timeunit='h'),1)\n",
    "    return  w[0]*linalg.norm(H.A-G.A,2) + \\\n",
    "            w[1]*linalg.norm(H.B-G.B,2) + \\\n",
    "            w[2]*linalg.norm(H.C-G.C,2) + \\\n",
    "            w[3]*linalg.norm(H.D-G.D,2)\n",
    "res = minimize(error,X0,method=\"CG\",options={\"disp\":False})\n",
    "X = [res.x[0],1/res.x[1],res.x[2],1/res.x[3],res.x[4],res.x[5],1/res.x[6]]\n",
    "DataFrame([X,[UA,CA,UM,CM,UO,m,eta]],columns=[\"UA\",\"CA\",\"UM\",\"CM\",\"UO\",\"m\",\"eta\"])"
   ]
  },
  {
   "cell_type": "code",
   "execution_count": 158,
   "id": "42cc314a",
   "metadata": {},
   "outputs": [
    {
     "data": {
      "text/html": [
       "<div>\n",
       "<style scoped>\n",
       "    .dataframe tbody tr th:only-of-type {\n",
       "        vertical-align: middle;\n",
       "    }\n",
       "\n",
       "    .dataframe tbody tr th {\n",
       "        vertical-align: top;\n",
       "    }\n",
       "\n",
       "    .dataframe thead th {\n",
       "        text-align: right;\n",
       "    }\n",
       "</style>\n",
       "<table border=\"1\" class=\"dataframe\">\n",
       "  <thead>\n",
       "    <tr style=\"text-align: right;\">\n",
       "      <th></th>\n",
       "      <th>UA</th>\n",
       "      <th>CA</th>\n",
       "      <th>UM</th>\n",
       "      <th>CM</th>\n",
       "      <th>UO</th>\n",
       "      <th>m</th>\n",
       "      <th>eta</th>\n",
       "    </tr>\n",
       "  </thead>\n",
       "  <tbody>\n",
       "    <tr>\n",
       "      <th>0</th>\n",
       "      <td>76.0</td>\n",
       "      <td>1512.0</td>\n",
       "      <td>791.0</td>\n",
       "      <td>6843.0</td>\n",
       "      <td>243.0</td>\n",
       "      <td>11797.0</td>\n",
       "      <td>-12757.0</td>\n",
       "    </tr>\n",
       "    <tr>\n",
       "      <th>1</th>\n",
       "      <td>500.0</td>\n",
       "      <td>5000.0</td>\n",
       "      <td>1000.0</td>\n",
       "      <td>10000.0</td>\n",
       "      <td>500.0</td>\n",
       "      <td>10000.0</td>\n",
       "      <td>-10236.0</td>\n",
       "    </tr>\n",
       "  </tbody>\n",
       "</table>\n",
       "</div>"
      ],
      "text/plain": [
       "      UA      CA      UM       CM     UO        m      eta\n",
       "0   76.0  1512.0   791.0   6843.0  243.0  11797.0 -12757.0\n",
       "1  500.0  5000.0  1000.0  10000.0  500.0  10000.0 -10236.0"
      ]
     },
     "execution_count": 158,
     "metadata": {},
     "output_type": "execute_result"
    }
   ],
   "source": [
    "t,y = step_response(H)\n",
    "w = [10,1,1,1]\n",
    "def error(x):\n",
    "    x0 = UA; x1=1/CA; x2=UM; x3=1/CM; x4=UO; x5=m; x6=1/eta\n",
    "    A = [[-x0*x1-x2*x1, x2*x1, x1],\n",
    "         [x2*x3, -x2*x3-x4*x3, 0],\n",
    "         [-x5*x0*x1-x5*x2*x1, x5*x2*x1, 0]\n",
    "        ]\n",
    "    B = [[x0*x1, 1, x1, 0],\n",
    "         [x4*x3, 1, 0, x3],\n",
    "         [x5*x0*x1, 0, x5*x1, 0]\n",
    "        ]\n",
    "    C = [[0, 0, -x6]]\n",
    "    D = [[0, 0, 1/3412.0, 0]]\n",
    "    G = c2d(ss(A,B,C,D,timeunit='h'),1)\n",
    "    _,yy = step_response(G,t)\n",
    "    return  w[0]*linalg.norm(H.A-G.A,2) + \\\n",
    "            w[1]*linalg.norm(H.B-G.B,2) + \\\n",
    "            w[2]*linalg.norm(H.C-G.C,2) + \\\n",
    "            w[3]*linalg.norm(H.D-G.D,2) + \\\n",
    "            linalg.norm(yy[0,0]-y[0,0],2)\n",
    "res = minimize(error,X0,method=\"CG\",options={\"disp\":False})\n",
    "X = [res.x[0],1/res.x[1],res.x[2],1/res.x[3],res.x[4],res.x[5],1/res.x[6]]\n",
    "DataFrame([X,[UA,CA,UM,CM,UO,m,eta]],columns=[\"UA\",\"CA\",\"UM\",\"CM\",\"UO\",\"m\",\"eta\"])"
   ]
  },
  {
   "cell_type": "code",
   "execution_count": null,
   "id": "3ed5ff2d",
   "metadata": {},
   "outputs": [],
   "source": []
  },
  {
   "cell_type": "code",
   "execution_count": null,
   "id": "4db86d9b",
   "metadata": {},
   "outputs": [],
   "source": []
  }
 ],
 "metadata": {
  "kernelspec": {
   "display_name": "Python 3 (ipykernel)",
   "language": "python",
   "name": "python3"
  },
  "language_info": {
   "codemirror_mode": {
    "name": "ipython",
    "version": 3
   },
   "file_extension": ".py",
   "mimetype": "text/x-python",
   "name": "python",
   "nbconvert_exporter": "python",
   "pygments_lexer": "ipython3",
   "version": "3.9.6"
  }
 },
 "nbformat": 4,
 "nbformat_minor": 5
}
